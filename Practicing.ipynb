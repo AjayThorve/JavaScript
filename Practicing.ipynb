{
 "cells": [
  {
   "cell_type": "markdown",
   "metadata": {},
   "source": [
    "# JavaScript(Node JS): my notes"
   ]
  },
  {
   "cell_type": "markdown",
   "metadata": {},
   "source": [
    "### The tradition: hello world to start"
   ]
  },
  {
   "cell_type": "code",
   "execution_count": 4,
   "metadata": {
    "collapsed": false
   },
   "outputs": [
    {
     "name": "stdout",
     "output_type": "stream",
     "text": [
      "Hello world\n"
     ]
    }
   ],
   "source": [
    "console.log(\"Hello world\");"
   ]
  },
  {
   "cell_type": "markdown",
   "metadata": {},
   "source": [
    "### JS Datatypes\n",
    "1. Numbers, eg. 123, 120.50 etc.\n",
    "2. Strings\n",
    "3. Boolean\n",
    "> JS doesnt make a distinction between integer and floating-point values. All numbers in JS are represented as floating-point values\n",
    "Additional trivial datatypes: contains a single value\n",
    "1. null\n",
    "2. undefined\n",
    "\n",
    "Composite Datatype:\n",
    "1. Object\n"
   ]
  },
  {
   "cell_type": "code",
   "execution_count": 11,
   "metadata": {
    "collapsed": false
   },
   "outputs": [
    {
     "name": "stdout",
     "output_type": "stream",
     "text": [
      "200,abc\n"
     ]
    }
   ],
   "source": [
    "var money; //variable declaration\n",
    "var name = \"abc\"; //variable initialization\n",
    "var a,b; //multiple variable declaration\n",
    "money = 200;\n",
    "console.log(money+\",\"+name);"
   ]
  },
  {
   "cell_type": "markdown",
   "metadata": {},
   "source": [
    "><b>Note</b> − Use the var keyword only for declaration or initialization, once for the life of any variable name in a document. You should not re-declare same variable twice."
   ]
  },
  {
   "cell_type": "markdown",
   "metadata": {},
   "source": [
    "### Variable Scope"
   ]
  },
  {
   "cell_type": "markdown",
   "metadata": {},
   "source": [
    "1. Global Variables\n",
    "2. Local Variables"
   ]
  },
  {
   "cell_type": "code",
   "execution_count": 47,
   "metadata": {
    "collapsed": false
   },
   "outputs": [
    {
     "name": "stdout",
     "output_type": "stream",
     "text": [
      "global,global2\n",
      "local,local2\n",
      "global,local2\n"
     ]
    }
   ],
   "source": [
    "var myVar = \"global\"; // Declare a global variable\n",
    "var myVar2 = \"global2\"; //Declare another global variable\n",
    "function checkscope( ) {\n",
    "    var myVar = \"local\";  // Declare a local variable, even with the same name, local scope is given precedence in this case\n",
    "    myVar2 = \"local2\";    // manipulat the value of global variable\n",
    "    console.log(myVar+\",\"+myVar2);\n",
    "    \n",
    "}\n",
    "console.log(myVar+\",\"+myVar2);\n",
    "checkscope();\n",
    "console.log(myVar+\",\"+myVar2);"
   ]
  },
  {
   "cell_type": "markdown",
   "metadata": {},
   "source": [
    "> Inside a function in JS, local variable takes precedence over a global variable"
   ]
  },
  {
   "cell_type": "markdown",
   "metadata": {},
   "source": [
    "### typeof Operator\n",
    "\n",
    "<table>\n",
    "    <tr>\n",
    "       <th>Type</th>\n",
    "       <th>Strin returned by typeof</th>\n",
    "    </tr>\n",
    "    <tr>\n",
    "        <td>Number</td>\n",
    "        <td>\"number\"</td>\n",
    "    </tr>\n",
    "    <tr>\n",
    "        <td>String</td>\n",
    "        <td>\"string\"</td>\n",
    "    </tr>\n",
    "    <tr>\n",
    "        <td>Boolean</td>\n",
    "        <td>\"boolean\"</td>\n",
    "    </tr>\n",
    "    <tr>\n",
    "        <td>Object</td>\n",
    "        <td>\"object\"</td>\n",
    "    </tr>\n",
    "    <tr>\n",
    "        <td>Function</td>\n",
    "        <td>\"function\"</td>\n",
    "    </tr>\n",
    "    <tr>\n",
    "        <td>Undefined</td>\n",
    "        <td>\"undefined\"</td>\n",
    "    </tr>\n",
    "    <tr>\n",
    "        <td>Null</td>\n",
    "        <td>\"object\"</td>\n",
    "    </tr>\n",
    "</table>"
   ]
  },
  {
   "cell_type": "code",
   "execution_count": 29,
   "metadata": {
    "collapsed": false
   },
   "outputs": [
    {
     "name": "stdout",
     "output_type": "stream",
     "text": [
      "Type of a: number\n",
      "Type of b: string\n",
      "Type of c: undefined\n",
      "Type of d(null): object\n",
      "Type of e: boolean\n"
     ]
    }
   ],
   "source": [
    "var a = 10;\n",
    "var b = \"This is a string\";\n",
    "var linebreak;\n",
    "var d = null;\n",
    "var e = false;\n",
    "console.log(\"Type of a: \"+typeof a)\n",
    "console.log(\"Type of b: \"+typeof b)\n",
    "console.log(\"Type of c: \"+typeof c)\n",
    "console.log(\"Type of d(null): \"+typeof d)\n",
    "console.log(\"Type of e: \"+typeof e)"
   ]
  },
  {
   "cell_type": "markdown",
   "metadata": {},
   "source": [
    "### Functions"
   ]
  },
  {
   "cell_type": "code",
   "execution_count": 28,
   "metadata": {
    "collapsed": false
   },
   "outputs": [
    {
     "name": "stdout",
     "output_type": "stream",
     "text": [
      "Before calling the function!\n",
      "Called function: Hello world!\n"
     ]
    }
   ],
   "source": [
    "function sayHello()\n",
    "{\n",
    "    console.log(\"Called function: Hello world!\");\n",
    "}\n",
    "console.log(\"Before calling the function!\");\n",
    "sayHello();"
   ]
  },
  {
   "cell_type": "markdown",
   "metadata": {},
   "source": [
    "##### Nested functions"
   ]
  },
  {
   "cell_type": "code",
   "execution_count": 32,
   "metadata": {
    "collapsed": false
   },
   "outputs": [
    {
     "name": "stdout",
     "output_type": "stream",
     "text": [
      "hypotenuse of a triangle with sides 3 and 4 is 5\n"
     ]
    }
   ],
   "source": [
    "function hypotenuse(a,b){\n",
    "    function square(x) {return x*x;}\n",
    "    return Math.sqrt(square(a) + square(b));\n",
    "}\n",
    "\n",
    "console.log(\"hypotenuse of a triangle with sides 3 and 4 is \"\n",
    "            + hypotenuse(3,4));"
   ]
  },
  {
   "cell_type": "markdown",
   "metadata": {},
   "source": [
    "##### Another way to define a function"
   ]
  },
  {
   "cell_type": "code",
   "execution_count": 34,
   "metadata": {
    "collapsed": true
   },
   "outputs": [],
   "source": [
    "var func = new Function(\"x\",\"y\",\"return x*y\");"
   ]
  },
  {
   "cell_type": "code",
   "execution_count": 35,
   "metadata": {
    "collapsed": false
   },
   "outputs": [
    {
     "name": "stdout",
     "output_type": "stream",
     "text": [
      "200\n"
     ]
    }
   ],
   "source": [
    "console.log(func(10,20));"
   ]
  },
  {
   "cell_type": "markdown",
   "metadata": {},
   "source": [
    "##### Another way to define a function\n",
    "Without using the new keyword or defining a function name"
   ]
  },
  {
   "cell_type": "code",
   "execution_count": 42,
   "metadata": {
    "collapsed": false
   },
   "outputs": [
    {
     "name": "stdout",
     "output_type": "stream",
     "text": [
      "Full Name: Ajay Thorve\n"
     ]
    }
   ],
   "source": [
    "var func1 = function(x,y){\n",
    "    return \"Full Name: \"+x+\" \"+y;\n",
    "};\n",
    "console.log(func1(\"Ajay\",\"Thorve\"));"
   ]
  },
  {
   "cell_type": "code",
   "execution_count": null,
   "metadata": {
    "collapsed": true
   },
   "outputs": [],
   "source": []
  }
 ],
 "metadata": {
  "kernelspec": {
   "display_name": "Javascript (Node.js)",
   "language": "javascript",
   "name": "javascript"
  },
  "language_info": {
   "file_extension": ".js",
   "mimetype": "application/javascript",
   "name": "javascript",
   "version": "8.4.0"
  }
 },
 "nbformat": 4,
 "nbformat_minor": 2
}

{
 "cells": [
  {
   "cell_type": "markdown",
   "metadata": {},
   "source": [
    "JavaScript(Node JS): My Notes\n",
    "------\n",
    "\n",
    "\n"
   ]
  },
  {
   "cell_type": "markdown",
   "metadata": {},
   "source": [
    "### 1. The tradition: hello world to start"
   ]
  },
  {
   "cell_type": "code",
   "execution_count": 124,
   "metadata": {},
   "outputs": [
    {
     "name": "stdout",
     "output_type": "stream",
     "text": [
      "Hello world\n"
     ]
    }
   ],
   "source": [
    "console.log(\"Hello world\");"
   ]
  },
  {
   "cell_type": "markdown",
   "metadata": {},
   "source": [
    "### 2. JS Datatypes\n",
    "\n",
    "Primitive Datatypes\n",
    "\n",
    "1. Numbers, eg. 123, 120.50 etc.\n",
    "> **Note:** JS doesnt make a distinction between integer and floating-point values. All numbers in JS are represented as floating-point values. Arithmetic is based on 64-bit IEEE-754 standard.\n",
    "2. Strings\n",
    "3. Boolean, true or false.\n",
    "\n",
    "1. null\n",
    "2. undefined\n",
    "> **Note:** Variables can be undefined in the following scenarios:\n",
    "> 1. Variable isn't declared.\n",
    "> 2. Variable is declared but isn't initialized.\n",
    "\n",
    "Non-primitive Datatype:\n",
    "\n",
    "1. Object\n"
   ]
  },
  {
   "cell_type": "markdown",
   "metadata": {},
   "source": [
    "### 3. A lie told often enough becomes the Truth!\n",
    "\n",
    "The follwoing values are falsy in JavaScript:\n",
    "\n",
    "1. 0\n",
    "2. '' (empty string)\n",
    "3. false\n",
    "4. null\n",
    "5. undefined\n",
    "6. NaN (not-a-number)\n",
    "\n",
    "All other values are interpreted as truthy by JavaScript\n"
   ]
  },
  {
   "cell_type": "code",
   "execution_count": 125,
   "metadata": {},
   "outputs": [
    {
     "name": "stdout",
     "output_type": "stream",
     "text": [
      "null is falsy\n",
      "non-blank-string is truthy\n"
     ]
    }
   ],
   "source": [
    "var nbs = \"non-blank-string\";\n",
    "if(null) console.log(\"null is truthy\"); else console.log(\"null is falsy\");\n",
    "if(nbs) console.log(\"non-blank-string is truthy\"); else console.log(\"non-blank-string is falsy\")"
   ]
  },
  {
   "cell_type": "markdown",
   "metadata": {},
   "source": [
    "### 4. Declaring variables"
   ]
  },
  {
   "cell_type": "code",
   "execution_count": 126,
   "metadata": {},
   "outputs": [
    {
     "name": "stdout",
     "output_type": "stream",
     "text": [
      "200,abc\n"
     ]
    }
   ],
   "source": [
    "var money; //variable declaration\n",
    "var name = \"abc\"; //variable initialization\n",
    "var a,b; //multiple variable declaration\n",
    "money = 200;\n",
    "console.log(money+\",\"+name);"
   ]
  },
  {
   "cell_type": "markdown",
   "metadata": {},
   "source": [
    ">**Note:** Use the var keyword only for declaration or initialization, once for the life of any variable name in a document. You should not re-declare same variable twice. Use 'use-strict' expression in ES5 or later to run JavaScript in strict mode."
   ]
  },
  {
   "cell_type": "markdown",
   "metadata": {},
   "source": [
    "### 5. Why the *var* keyword is a BIG NO!\n",
    "\n",
    "When a variable is declared with the *var* keyword anywhere inside a function, it is hoisted as the first line in that function."
   ]
  },
  {
   "cell_type": "code",
   "execution_count": 127,
   "metadata": {},
   "outputs": [
    {
     "name": "stdout",
     "output_type": "stream",
     "text": [
      "5\n"
     ]
    }
   ],
   "source": [
    "var globalVar = \"globalVar\";\n",
    "var item = \"globalItem\";\n",
    "function task(){\n",
    "    if(globalVar === \"globalVar\"){\n",
    "        var item = 5; //this assignment should have affected the code inside the if block\n",
    "    }\n",
    "    console.log(item); //expected output is \"globalItem\" but 5 is printed instead\n",
    "}\n",
    "\n",
    "task();"
   ]
  },
  {
   "cell_type": "markdown",
   "metadata": {},
   "source": [
    "The above snippet is equivalent to the following snippet:"
   ]
  },
  {
   "cell_type": "code",
   "execution_count": 128,
   "metadata": {},
   "outputs": [
    {
     "name": "stdout",
     "output_type": "stream",
     "text": [
      "5\n"
     ]
    }
   ],
   "source": [
    "var globalVar = \"globalVar\";\n",
    "var item = \"globalItem\";\n",
    "function task(){\n",
    "    var item = 5;\n",
    "    if(globalVar === \"globalVar\"){\n",
    "        \n",
    "    }\n",
    "    console.log(item); //expected output is \"globalItem\" but 5 is printed instead\n",
    "}\n",
    "\n",
    "task();"
   ]
  },
  {
   "cell_type": "markdown",
   "metadata": {},
   "source": [
    "Fix it with the *let* keyword!"
   ]
  },
  {
   "cell_type": "code",
   "execution_count": 129,
   "metadata": {},
   "outputs": [
    {
     "name": "stdout",
     "output_type": "stream",
     "text": [
      "globalItem\n"
     ]
    }
   ],
   "source": [
    "var globalVar = \"globalVar\";\n",
    "var item = \"globalItem\";\n",
    "function task(){\n",
    "    if(globalVar === \"globalVar\"){\n",
    "        let item = 5;\n",
    "    }\n",
    "    console.log(item); //variable isn't hoisted up\n",
    "}\n",
    "\n",
    "task();"
   ]
  },
  {
   "cell_type": "markdown",
   "metadata": {},
   "source": [
    "### 6. Variables like to settle down too!"
   ]
  },
  {
   "cell_type": "code",
   "execution_count": 130,
   "metadata": {},
   "outputs": [
    {
     "ename": "TypeError",
     "evalue": "Assignment to constant variable.",
     "output_type": "error",
     "traceback": [
      "evalmachine.<anonymous>:2",
      "iAmSelfSatisfied = 1; //cannot do this bro!",
      "                 ^",
      "",
      "TypeError: Assignment to constant variable.",
      "    at evalmachine.<anonymous>:2:18",
      "    at ContextifyScript.Script.runInThisContext (vm.js:50:33)",
      "    at Object.runInThisContext (vm.js:152:38)",
      "    at run ([eval]:971:15)",
      "    at onRunRequest ([eval]:798:18)",
      "    at onMessage ([eval]:758:13)",
      "    at process.emit (events.js:159:13)",
      "    at emit (internal/child_process.js:790:12)",
      "    at _combinedTickCallback (internal/process/next_tick.js:141:11)",
      "    at process._tickCallback (internal/process/next_tick.js:180:9)"
     ]
    }
   ],
   "source": [
    "const iAmSelfSatisfied = \"enough\"; //A constant variable\n",
    "iAmSelfSatisfied = 1; //cannot do this bro!"
   ]
  },
  {
   "cell_type": "markdown",
   "metadata": {},
   "source": [
    "### 7. Checking Equality"
   ]
  },
  {
   "cell_type": "code",
   "execution_count": 131,
   "metadata": {},
   "outputs": [
    {
     "name": "stdout",
     "output_type": "stream",
     "text": [
      "false\n"
     ]
    }
   ],
   "source": [
    "let itemA = 1, itemB = 2;\n",
    "console.log(itemA==itemB);"
   ]
  },
  {
   "cell_type": "markdown",
   "metadata": {},
   "source": [
    "The *== (double-equals)* operator automatically converts variables to suitable types"
   ]
  },
  {
   "cell_type": "code",
   "execution_count": 132,
   "metadata": {},
   "outputs": [
    {
     "name": "stdout",
     "output_type": "stream",
     "text": [
      "true\n"
     ]
    }
   ],
   "source": [
    "itemB = true;\n",
    "console.log(itemA==itemB); //Since itemB is true and itemA is a truthy value, they both are equal"
   ]
  },
  {
   "cell_type": "markdown",
   "metadata": {},
   "source": [
    "Avoid this ambiguity with the *=== (tripple-equals)* operator"
   ]
  },
  {
   "cell_type": "code",
   "execution_count": 133,
   "metadata": {},
   "outputs": [
    {
     "name": "stdout",
     "output_type": "stream",
     "text": [
      "false\n"
     ]
    }
   ],
   "source": [
    "console.log(itemA===itemB);"
   ]
  },
  {
   "cell_type": "markdown",
   "metadata": {},
   "source": [
    "### 8. How *== (double-equals)* breaks transitivity!"
   ]
  },
  {
   "cell_type": "code",
   "execution_count": 134,
   "metadata": {},
   "outputs": [
    {
     "name": "stdout",
     "output_type": "stream",
     "text": [
      "true\n",
      "true\n",
      "false\n"
     ]
    }
   ],
   "source": [
    "console.log('0'==0); //A equals B | '0' and 0 are both falsy\n",
    "console.log(0=='');  //B equals C | 0 and blank-string are both falsy\n",
    "console.log(''=='0');//A does not equal A | blank-string is falsy but '0' (non-blank-string) is a truthy value"
   ]
  },
  {
   "cell_type": "markdown",
   "metadata": {},
   "source": [
    "### 9. Variable Scope"
   ]
  },
  {
   "cell_type": "markdown",
   "metadata": {},
   "source": [
    "1. Global Variables\n",
    "2. Local Variables"
   ]
  },
  {
   "cell_type": "code",
   "execution_count": 135,
   "metadata": {},
   "outputs": [
    {
     "name": "stdout",
     "output_type": "stream",
     "text": [
      "global,global2\n",
      "local,local2\n",
      "global,local2\n"
     ]
    }
   ],
   "source": [
    "var myVar = \"global\"; // Declare a global variable\n",
    "var myVar2 = \"global2\"; //Declare another global variable\n",
    "function checkscope( ) {\n",
    "    var myVar = \"local\";  // Declare a local variable, even with the same name, local scope is given precedence in this case\n",
    "    myVar2 = \"local2\";    // manipulat the value of global variable\n",
    "    console.log(myVar+\",\"+myVar2);\n",
    "    \n",
    "}\n",
    "console.log(myVar+\",\"+myVar2);\n",
    "checkscope();\n",
    "console.log(myVar+\",\"+myVar2);"
   ]
  },
  {
   "cell_type": "markdown",
   "metadata": {},
   "source": [
    "> **Note:** Inside a function in JS, local variable takes precedence over a global variable"
   ]
  },
  {
   "cell_type": "markdown",
   "metadata": {},
   "source": [
    "### 10. The typeof Operator\n",
    "\n",
    "<table>\n",
    "    <tr>\n",
    "       <th>Type</th>\n",
    "       <th>Strin returned by typeof</th>\n",
    "    </tr>\n",
    "    <tr>\n",
    "        <td>Number</td>\n",
    "        <td>\"number\"</td>\n",
    "    </tr>\n",
    "    <tr>\n",
    "        <td>String</td>\n",
    "        <td>\"string\"</td>\n",
    "    </tr>\n",
    "    <tr>\n",
    "        <td>Boolean</td>\n",
    "        <td>\"boolean\"</td>\n",
    "    </tr>\n",
    "    <tr>\n",
    "        <td>Object</td>\n",
    "        <td>\"object\"</td>\n",
    "    </tr>\n",
    "    <tr>\n",
    "        <td>Function</td>\n",
    "        <td>\"function\"</td>\n",
    "    </tr>\n",
    "    <tr>\n",
    "        <td>Undefined</td>\n",
    "        <td>\"undefined\"</td>\n",
    "    </tr>\n",
    "    <tr>\n",
    "        <td>Null</td>\n",
    "        <td>\"object\"</td>\n",
    "    </tr>\n",
    "</table>"
   ]
  },
  {
   "cell_type": "code",
   "execution_count": 136,
   "metadata": {},
   "outputs": [
    {
     "name": "stdout",
     "output_type": "stream",
     "text": [
      "Type of a: number\n",
      "Type of b: string\n",
      "Type of c: undefined\n",
      "Type of d(null): object\n",
      "Type of e: boolean\n"
     ]
    }
   ],
   "source": [
    "var a = 10;\n",
    "var b = \"This is a string\";\n",
    "var linebreak;\n",
    "var d = null;\n",
    "var e = false;\n",
    "console.log(\"Type of a: \"+typeof a)\n",
    "console.log(\"Type of b: \"+typeof b)\n",
    "console.log(\"Type of c: \"+typeof c)\n",
    "console.log(\"Type of d(null): \"+typeof d)\n",
    "console.log(\"Type of e: \"+typeof e)"
   ]
  },
  {
   "cell_type": "markdown",
   "metadata": {},
   "source": [
    "### 11. Functions"
   ]
  },
  {
   "cell_type": "code",
   "execution_count": 137,
   "metadata": {},
   "outputs": [
    {
     "name": "stdout",
     "output_type": "stream",
     "text": [
      "Before calling the function!\n",
      "Called function: Hello world!\n"
     ]
    }
   ],
   "source": [
    "function sayHello()\n",
    "{\n",
    "    console.log(\"Called function: Hello world!\");\n",
    "}\n",
    "console.log(\"Before calling the function!\");\n",
    "sayHello();"
   ]
  },
  {
   "cell_type": "markdown",
   "metadata": {},
   "source": [
    "##### Nested functions"
   ]
  },
  {
   "cell_type": "code",
   "execution_count": 138,
   "metadata": {},
   "outputs": [
    {
     "name": "stdout",
     "output_type": "stream",
     "text": [
      "hypotenuse of a triangle with sides 3 and 4 is 5\n"
     ]
    }
   ],
   "source": [
    "function hypotenuse(a,b){\n",
    "    function square(x) {return x*x;}\n",
    "    return Math.sqrt(square(a) + square(b));\n",
    "}\n",
    "\n",
    "console.log(\"hypotenuse of a triangle with sides 3 and 4 is \"\n",
    "            + hypotenuse(3,4));"
   ]
  },
  {
   "cell_type": "markdown",
   "metadata": {},
   "source": [
    "##### Another way to define a function"
   ]
  },
  {
   "cell_type": "code",
   "execution_count": 139,
   "metadata": {},
   "outputs": [
    {
     "name": "stdout",
     "output_type": "stream",
     "text": [
      "200\n"
     ]
    }
   ],
   "source": [
    "var func = new Function(\"x\",\"y\",\"return x*y\");\n",
    "\n",
    "console.log(func(10,20));"
   ]
  },
  {
   "cell_type": "markdown",
   "metadata": {},
   "source": [
    "##### Another way to define a function\n",
    "Without using the new keyword or defining a function name"
   ]
  },
  {
   "cell_type": "code",
   "execution_count": 140,
   "metadata": {},
   "outputs": [
    {
     "name": "stdout",
     "output_type": "stream",
     "text": [
      "Full Name: Ajay Thorve\n"
     ]
    }
   ],
   "source": [
    "var func1 = function(x,y){\n",
    "    return \"Full Name: \"+x+\" \"+y;\n",
    "};\n",
    "console.log(func1(\"Ajay\",\"Thorve\"));"
   ]
  },
  {
   "cell_type": "markdown",
   "metadata": {},
   "source": [
    "##### The Fat-Arrow functions\n",
    "\n",
    "The short-hand single-line method of declaring functions. You can define the arguments it takes and the value it returns in one single line."
   ]
  },
  {
   "cell_type": "code",
   "execution_count": 141,
   "metadata": {},
   "outputs": [
    {
     "name": "stdout",
     "output_type": "stream",
     "text": [
      "Ajay Thorve\n"
     ]
    }
   ],
   "source": [
    "var func1 = (arg1, arg2)=>arg1+arg2;\n",
    "console.log(func1(\"Ajay\", \" Thorve\"));"
   ]
  },
  {
   "cell_type": "markdown",
   "metadata": {},
   "source": [
    "### 12. Functions rule JavaScript\n",
    "\n",
    "JavaScript supports higher order functions i.e functions that take in functions as their arguments and/or return function as return value."
   ]
  },
  {
   "cell_type": "code",
   "execution_count": 142,
   "metadata": {},
   "outputs": [
    {
     "name": "stdout",
     "output_type": "stream",
     "text": [
      "this executed inside func2\n"
     ]
    }
   ],
   "source": [
    "var func1 = function(func2){\n",
    "    func2();\n",
    "}\n",
    "\n",
    "var func2 = function(){\n",
    "    console.log(\"this executed inside func2\");\n",
    "}\n",
    "\n",
    "func1(func2);"
   ]
  },
  {
   "cell_type": "markdown",
   "metadata": {},
   "source": [
    "### 13. Hiding data :)"
   ]
  },
  {
   "cell_type": "code",
   "execution_count": 143,
   "metadata": {},
   "outputs": [
    {
     "name": "stdout",
     "output_type": "stream",
     "text": [
      "200\n"
     ]
    }
   ],
   "source": [
    "function account(bal){ //cannot be edited because there is no reference to bal outside\n",
    "    return function(){\n",
    "        return bal;\n",
    "    }\n",
    "}\n",
    "var accountInstance = account(200);\n",
    "console.log(accountInstance());"
   ]
  },
  {
   "cell_type": "markdown",
   "metadata": {},
   "source": [
    "### 14. Currying it up a little\n",
    "\n",
    "Currying refers replacing a function taking arguments with a sequence of functions that give the same result. For example: f(x,y) can be translated to f(g(x))"
   ]
  },
  {
   "cell_type": "code",
   "execution_count": 144,
   "metadata": {},
   "outputs": [
    {
     "name": "stdout",
     "output_type": "stream",
     "text": [
      "200 Ajay Thorve\n"
     ]
    }
   ],
   "source": [
    "function account(bal, name){ //f(x,y)\n",
    "    return function(){\n",
    "        return bal + \" \" + name;\n",
    "    }\n",
    "}\n",
    "\n",
    "var accountInstance = account(200, \"Ajay Thorve\");\n",
    "console.log(accountInstance());"
   ]
  },
  {
   "cell_type": "markdown",
   "metadata": {},
   "source": [
    "The above snippet can be translated to the following snippet:"
   ]
  },
  {
   "cell_type": "code",
   "execution_count": 145,
   "metadata": {},
   "outputs": [
    {
     "name": "stdout",
     "output_type": "stream",
     "text": [
      "200 Ajay Thorve\n"
     ]
    }
   ],
   "source": [
    "function account(bal){ //f(x)\n",
    "    return function person(name){ //g(y)\n",
    "        return bal + \" \" + name; \n",
    "    }\n",
    "}\n",
    "\n",
    "var accountBalanceInstance = account(200);\n",
    "console.log(accountBalanceInstance(\"Ajay Thorve\")); //f(g(y))"
   ]
  },
  {
   "cell_type": "code",
   "execution_count": null,
   "metadata": {},
   "outputs": [],
   "source": []
  }
 ],
 "metadata": {
  "kernelspec": {
   "display_name": "Javascript (Node.js)",
   "language": "javascript",
   "name": "javascript"
  },
  "language_info": {
   "file_extension": ".js",
   "mimetype": "application/javascript",
   "name": "javascript",
   "version": "9.2.0"
  }
 },
 "nbformat": 4,
 "nbformat_minor": 2
}
